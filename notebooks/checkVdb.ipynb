{
 "cells": [
  {
   "cell_type": "code",
   "execution_count": 1,
   "id": "4b4626b5-df55-4ffc-b2bd-ab9d60a4bd1f",
   "metadata": {},
   "outputs": [],
   "source": [
    "import os\n",
    "os.chdir('../')\n",
    "import streamlit as st\n",
    "from webui_pages.utils import *\n",
    "from st_aggrid import AgGrid, JsCode\n",
    "from st_aggrid.grid_options_builder import GridOptionsBuilder\n",
    "import pandas as pd\n",
    "from server.knowledge_base.utils import get_file_path, LOADER_DICT\n",
    "from server.knowledge_base.kb_service.base import get_kb_details, get_kb_file_details\n",
    "from typing import Literal, Dict, Tuple\n",
    "from configs import (kbs_config,\n",
    "                     EMBEDDING_MODEL, DEFAULT_VS_TYPE,\n",
    "                     CHUNK_SIZE, OVERLAP_SIZE, ZH_TITLE_ENHANCE)\n",
    "from server.utils import list_embed_models, list_online_embed_models\n",
    "import os\n",
    "import time\n",
    "\n",
    "cell_renderer = JsCode(\"\"\"function(params) {if(params.value==true){return '✓'}else{return '×'}}\"\"\")\n",
    "\n",
    "def config_aggrid(\n",
    "        df: pd.DataFrame,\n",
    "        columns: Dict[Tuple[str, str], Dict] = {},\n",
    "        selection_mode: Literal[\"single\", \"multiple\", \"disabled\"] = \"single\",\n",
    "        use_checkbox: bool = False,\n",
    ") -> GridOptionsBuilder:\n",
    "    gb = GridOptionsBuilder.from_dataframe(df)\n",
    "    gb.configure_column(\"No\", width=40)\n",
    "    for (col, header), kw in columns.items():\n",
    "        gb.configure_column(col, header, wrapHeaderText=True, **kw)\n",
    "    gb.configure_selection(\n",
    "        selection_mode=selection_mode,\n",
    "        use_checkbox=use_checkbox,\n",
    "        pre_selected_rows=st.session_state.get(\"selected_rows\", [0]),\n",
    "    )\n",
    "    gb.configure_pagination(\n",
    "        enabled=True,\n",
    "        paginationAutoPageSize=False,\n",
    "        paginationPageSize=10\n",
    "    )\n",
    "    return gb"
   ]
  },
  {
   "cell_type": "code",
   "execution_count": null,
   "id": "067c642b-79d7-4c7c-b5a8-7950ae9db0cd",
   "metadata": {},
   "outputs": [],
   "source": [
    "kb = \"samples\"\n",
    "doc_details = pd.DataFrame(get_kb_file_details(kb))\n",
    "selected_rows = []\n",
    "\n",
    "if not len(doc_details):\n",
    "    st.info(f\"知识库 `{kb}` 中暂无文件\")\n",
    "else:\n",
    "    st.write(f\"知识库 `{kb}` 中已有文件:\")\n",
    "    st.info(\"知识库中包含源文件与向量库，请从下表中选择文件后操作\")\n",
    "    doc_details.drop(columns=[\"kb_name\"], inplace=True)\n",
    "    doc_details = doc_details[[\n",
    "        \"No\", \"file_name\", \"document_loader\", \"text_splitter\", \"docs_count\", \"in_folder\", \"in_db\",\n",
    "    ]]\n",
    "    doc_details[\"in_folder\"] = doc_details[\"in_folder\"].replace(True, \"✓\").replace(False, \"×\")\n",
    "    doc_details[\"in_db\"] = doc_details[\"in_db\"].replace(True, \"✓\").replace(False, \"×\")\n",
    "    \n",
    "    # 配置网格以显示文档加载器和分词器信息\n",
    "    gb = config_aggrid(\n",
    "        doc_details,\n",
    "        {\n",
    "            (\"No\", \"序号\"): {},\n",
    "            (\"file_name\", \"文档名称\"): {},\n",
    "            (\"document_loader\", \"文档加载器\"): {},\n",
    "            (\"docs_count\", \"文档数量\"): {},\n",
    "            (\"text_splitter\", \"分词器\"): {},\n",
    "            (\"in_folder\", \"源文件\"): {\"cellRenderer\": cell_renderer},\n",
    "            (\"in_db\", \"向量库\"): {\"cellRenderer\": cell_renderer},\n",
    "        },\n",
    "        \"multiple\",\n",
    "    )\n",
    "\n",
    "    doc_grid = AgGrid(\n",
    "        doc_details,\n",
    "        gb.build(),\n",
    "        columns_auto_size_mode=\"FIT_CONTENTS\",\n",
    "        theme=\"alpine\",\n",
    "        custom_css={\n",
    "            \"#gridToolBar\": {\"display\": \"none\"},\n",
    "        },\n",
    "        allow_unsafe_jscode=True,\n",
    "        enable_enterprise_modules=False\n",
    "    )\n",
    "\n",
    "    selected_rows = doc_grid.get(\"selected_rows\", [])\n"
   ]
  },
  {
   "cell_type": "code",
   "execution_count": null,
   "id": "a28d4ef8-9380-427c-aaf2-aeec39c0deb3",
   "metadata": {},
   "outputs": [],
   "source": [
    "print(\"#\")"
   ]
  },
  {
   "cell_type": "code",
   "execution_count": null,
   "id": "186ee44f-18e4-43b0-a54e-d9b16fd35ed0",
   "metadata": {},
   "outputs": [],
   "source": [
    "if selected_rows:\n",
    "    print(\"#\")\n",
    "api = ApiRequest()\n",
    "api.base_url"
   ]
  },
  {
   "cell_type": "code",
   "execution_count": 6,
   "id": "57cc0598-0ee5-43cf-89e7-3e318313997b",
   "metadata": {},
   "outputs": [
    {
     "name": "stderr",
     "output_type": "stream",
     "text": [
      "2024-07-12 16:02:22,498 - _client.py[line:1027] - INFO: HTTP Request: POST http://127.0.0.1:7861/knowledge_base/search_docs \"HTTP/1.1 200 OK\"\n"
     ]
    }
   ],
   "source": [
    "# if selected_rows:\n",
    "#     file_name = selected_rows[0][\"file_name\"]\n",
    "api = ApiRequest()\n",
    "selected_kb = \"cloudResources\"\n",
    "# file_name = \"大模型语料数据/Pass/业务上云/宝兰德Web服务器软件3.1.0用户手册.pdf\"\n",
    "# file_name = \"RUIJIE/20210910211119_RG-S6000E系列交换机RGOS 11.4(1)B12P32S1版本配置手册(V1.0).pdf\"\n",
    "file_name = \"chapter_1_配置指南-以太网交换.md\"\n",
    "\n",
    "docs = api.search_kb_docs(knowledge_base_name=selected_kb,file_name=file_name)\n",
    "data = [\n",
    "    {\"seq\": i + 1, \"id\": x[\"id\"], \"page_content\": x[\"page_content\"], \"source\": x[\"metadata\"].get(\"source\"),\n",
    "     \"type\": x[\"type\"],\n",
    "     \"metadata\": json.dumps(x[\"metadata\"], ensure_ascii=False),\n",
    "     \"to_del\": \"\",\n",
    "     } for i, x in enumerate(docs)]\n",
    "df = pd.DataFrame(data)\n",
    "\n",
    "gb = GridOptionsBuilder.from_dataframe(df)\n",
    "gb.configure_columns([\"id\", \"source\", \"type\", \"metadata\"], hide=True)\n",
    "gb.configure_column(\"seq\", \"No.\", width=100)\n",
    "gb.configure_column(\"page_content\", \"内容\", editable=True, autoHeight=True, wrapText=True, flex=1,\n",
    "                    cellEditor=\"agLargeTextCellEditor\", cellEditorPopup=True)\n",
    "gb.configure_column(\"to_del\", \"删除\", editable=True, width=50, wrapHeaderText=True,\n",
    "                    cellEditor=\"agCheckboxCellEditor\", cellRender=\"agCheckboxCellRenderer\")\n",
    "gb.configure_selection()\n",
    "edit_docs = AgGrid(df, gb.build())\n",
    "\n",
    "# if st.button(\"保存更改\"):\n",
    "#     origin_docs = {\n",
    "#         x[\"id\"]: {\"page_content\": x[\"page_content\"], \"type\": x[\"type\"], \"metadata\": x[\"metadata\"]} for x in\n",
    "#         docs}\n",
    "#     changed_docs = []\n",
    "#     for index, row in edit_docs.data.iterrows():\n",
    "#         origin_doc = origin_docs[row[\"id\"]]\n",
    "#         if row[\"page_content\"] != origin_doc[\"page_content\"]:\n",
    "#             if row[\"to_del\"] not in [\"Y\", \"y\", 1]:\n",
    "#                 changed_docs.append({\n",
    "#                     \"page_content\": row[\"page_content\"],\n",
    "#                     \"type\": row[\"type\"],\n",
    "#                     \"metadata\": json.loads(row[\"metadata\"]),\n",
    "#                 })\n",
    "\n",
    "#     if changed_docs:\n",
    "#         if api.update_kb_docs(knowledge_base_name=selected_kb,\n",
    "#                               file_names=[file_name],\n",
    "#                               docs={file_name: changed_docs}):\n",
    "#             st.toast(\"更新文档成功\")\n",
    "#         else:\n",
    "#             st.toast(\"更新文档失败\")"
   ]
  },
  {
   "cell_type": "code",
   "execution_count": 7,
   "id": "a6eadaea-e2c2-4e13-903f-2c802d646719",
   "metadata": {},
   "outputs": [
    {
     "data": {
      "text/plain": [
       "{'page_content': '{\"head1\": \"配置指南-以太网交换\", \"head2\": \"1  接口\", \"head3\": \"1.3 功能详解\", \"head4\": \"1.3.2 接口的描述和管理状态\", \"head5\": \"工作原理\", \"head6\": \"接口的管理状态\"}\\n在某些情况下，用户可能需要禁用某个接口。用户可以通过设置接口的管理状态来直接关闭一个接口。如果关闭一个接口，则 这个接口上将不会接收和发送任何帧，这个接口将丧失这个接口对应的所有功能。用户也可以通过设置管理状态来重新打开一 个已经关闭的接口。接口的管理状态有两种：Up 和 Down，当端口被关闭时，端口的管理状态为 Down，否则为 Up。',\n",
       " 'metadata': {'head1': '配置指南-以太网交换',\n",
       "  'head2': '1  接口',\n",
       "  'head3': '1.3 功能详解',\n",
       "  'head4': '1.3.2 接口的描述和管理状态',\n",
       "  'head5': '工作原理',\n",
       "  'head6': '接口的管理状态'},\n",
       " 'type': 'Document',\n",
       " 'id': '387a19ed-27fa-4395-b5d1-9237be19544f',\n",
       " 'score': 3.0}"
      ]
     },
     "execution_count": 7,
     "metadata": {},
     "output_type": "execute_result"
    }
   ],
   "source": [
    "docs[22]"
   ]
  },
  {
   "cell_type": "code",
   "execution_count": null,
   "id": "b01f06d2-961a-4ffd-9757-7d64200743e8",
   "metadata": {},
   "outputs": [],
   "source": [
    "selected_rows\n",
    "doc_details[\"text_splitter\"]"
   ]
  },
  {
   "cell_type": "code",
   "execution_count": null,
   "id": "6fb20dda-c88e-4c58-a0d3-721816d809bc",
   "metadata": {},
   "outputs": [],
   "source": [
    "# doc_details\n",
    "kb_list = {x[\"kb_name\"]: x for x in get_kb_details()}\n",
    "kb_list\n",
    "doc_details"
   ]
  },
  {
   "cell_type": "code",
   "execution_count": null,
   "id": "9be7c85a-4177-4cbd-895f-cf066e1f4ca2",
   "metadata": {},
   "outputs": [],
   "source": [
    "print(\"#\")"
   ]
  },
  {
   "cell_type": "code",
   "execution_count": 9,
   "id": "2524d69d-d136-45d0-828c-44cb7cea9d94",
   "metadata": {},
   "outputs": [
    {
     "name": "stdout",
     "output_type": "stream",
     "text": [
      "==============================/chat/knowledge_base_chat  input {\n",
      "    \"query\": \"RUIJIERG-S6000E系列交换机,如何配置三层AP口\",\n",
      "    \"knowledge_base_name\": \"cloudResources\",\n",
      "    \"stream\": true\n",
      "}==============================\n",
      "==============================/chat/knowledge_base_chat  output==============================\n",
      "+ 可选配置。  \n",
      "+ 可以在接口配置模式下，执行no switchport命令将一个二层AP口配置成三层AP口。使用switchport命令时，可以\n",
      "将一个三层AP口配置成二层AP口。\n"
     ]
    }
   ],
   "source": [
    "str1 = '''==============================/chat/knowledge_base_chat  input {\n",
    "    \"query\": \"RUIJIERG-S6000E系列交换机,如何配置三层AP口\",\n",
    "    \"knowledge_base_name\": \"cloudResources\",\n",
    "    \"stream\": true\n",
    "}==============================\n",
    "==============================/chat/knowledge_base_chat  output==============================\n",
    "+ 可选配置。  \n",
    "+ 可以在接口配置模式下，执行no switchport命令将一个二层AP口配置成三层AP口。使用switchport命令时，可以\n",
    "将一个三层AP口配置成二层AP口。'''\n",
    "print(str1)"
   ]
  },
  {
   "cell_type": "code",
   "execution_count": null,
   "id": "a3a19d17-24de-4996-aef9-578899d8ef6e",
   "metadata": {},
   "outputs": [],
   "source": []
  }
 ],
 "metadata": {
  "kernelspec": {
   "display_name": "chatchat",
   "language": "python",
   "name": "chatchat"
  },
  "language_info": {
   "codemirror_mode": {
    "name": "ipython",
    "version": 3
   },
   "file_extension": ".py",
   "mimetype": "text/x-python",
   "name": "python",
   "nbconvert_exporter": "python",
   "pygments_lexer": "ipython3",
   "version": "3.11.9"
  }
 },
 "nbformat": 4,
 "nbformat_minor": 5
}
