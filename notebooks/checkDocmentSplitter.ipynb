{
 "cells": [
  {
   "cell_type": "code",
   "execution_count": null,
   "id": "05bbae0e-cbda-4457-9892-f39325c995ca",
   "metadata": {},
   "outputs": [],
   "source": [
    "from langchain.text_splitter import CharacterTextSplitter\n",
    "import re\n",
    "from typing import List\n",
    "\n",
    "\n",
    "class AliTextSplitter(CharacterTextSplitter):\n",
    "    def __init__(self, pdf: bool = False, **kwargs):\n",
    "        super().__init__(**kwargs)\n",
    "        self.pdf = pdf\n",
    "\n",
    "    def split_text(self, text: str) -> List[str]:\n",
    "        # use_document_segmentation参数指定是否用语义切分文档，此处采取的文档语义分割模型为达摩院开源的nlp_bert_document-segmentation_chinese-base，论文见https://arxiv.org/abs/2107.09278\n",
    "        # 如果使用模型进行文档语义切分，那么需要安装modelscope[nlp]：pip install \"modelscope[nlp]\" -f https://modelscope.oss-cn-beijing.aliyuncs.com/releases/repo.html\n",
    "        # 考虑到使用了三个模型，可能对于低配置gpu不太友好，因此这里将模型load进cpu计算，有需要的话可以替换device为自己的显卡id\n",
    "        if self.pdf:\n",
    "            text = re.sub(r\"\\n{3,}\", r\"\\n\", text)\n",
    "            text = re.sub('\\s', \" \", text)\n",
    "            text = re.sub(\"\\n\\n\", \"\", text)\n",
    "        try:\n",
    "            from modelscope.pipelines import pipeline\n",
    "        except ImportError:\n",
    "            raise ImportError(\n",
    "                \"Could not import modelscope python package. \"\n",
    "                \"Please install modelscope with `pip install modelscope`. \"\n",
    "            )\n",
    "\n",
    "\n",
    "        p = pipeline(\n",
    "            task=\"document-segmentation\",\n",
    "            model='/root/model/alidamo/nlp_bert_document-segmentation_chinese-base',\n",
    "            device=\"cpu\")\n",
    "        result = p(documents=text)\n",
    "        sent_list = [i for i in result[\"text\"].split(\"\\n\\t\") if i]\n",
    "        return sent_list\n"
   ]
  }
 ],
 "metadata": {
  "kernelspec": {
   "display_name": "chatchat",
   "language": "python",
   "name": "chatchat"
  },
  "language_info": {
   "codemirror_mode": {
    "name": "ipython",
    "version": 3
   },
   "file_extension": ".py",
   "mimetype": "text/x-python",
   "name": "python",
   "nbconvert_exporter": "python",
   "pygments_lexer": "ipython3",
   "version": "3.11.9"
  }
 },
 "nbformat": 4,
 "nbformat_minor": 5
}
